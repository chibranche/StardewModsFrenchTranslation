{
 "cells": [
  {
   "cell_type": "code",
   "execution_count": 1,
   "metadata": {
    "colab": {
     "base_uri": "https://localhost:8080/"
    },
    "id": "DjRBVIENWIBE",
    "outputId": "35b432f7-91bf-4502-c6b1-2786898fe9a5"
   },
   "outputs": [
    {
     "name": "stdout",
     "output_type": "stream",
     "text": [
      "Collecting deepl\n",
      "  Downloading deepl-1.3.1-py3-none-any.whl (29 kB)\n",
      "Requirement already satisfied: requests<3,>=2 in d:\\anaconda\\lib\\site-packages (from deepl) (2.26.0)\n",
      "Requirement already satisfied: urllib3<1.27,>=1.21.1 in d:\\anaconda\\lib\\site-packages (from requests<3,>=2->deepl) (1.26.7)\n",
      "Requirement already satisfied: charset-normalizer~=2.0.0 in d:\\anaconda\\lib\\site-packages (from requests<3,>=2->deepl) (2.0.4)\n",
      "Requirement already satisfied: certifi>=2017.4.17 in d:\\anaconda\\lib\\site-packages (from requests<3,>=2->deepl) (2021.10.8)\n",
      "Requirement already satisfied: idna<4,>=2.5 in d:\\anaconda\\lib\\site-packages (from requests<3,>=2->deepl) (3.2)\n",
      "Installing collected packages: deepl\n",
      "Successfully installed deepl-1.3.1\n"
     ]
    }
   ],
   "source": [
    "!pip install --upgrade deepl"
   ]
  },
  {
   "cell_type": "code",
   "execution_count": 16,
   "metadata": {
    "id": "8XqMmxZbWR9f"
   },
   "outputs": [],
   "source": [
    "import deepl\n",
    "import os\n",
    "import pandas as pd"
   ]
  },
  {
   "cell_type": "code",
   "execution_count": 17,
   "metadata": {
    "id": "WZM8gcJ6WY_4"
   },
   "outputs": [],
   "source": [
    "apiKey = \""\n",
    "\n",
    "# Create a Translator object providing your DeepL API authentication key.\n",
    "# To avoid writing your key in source code, you can set it in an environment\n",
    "# variable DEEPL_AUTH_KEY, then read the variable in your Python code:\n",
    "translator = deepl.Translator(apiKey)"
   ]
  },
  {
   "cell_type": "code",
   "execution_count": 98,
   "metadata": {
    "id": "75eHLE3PXOEA"
   },
   "outputs": [],
   "source": [
    "# TODO : make array of text to translate (panda df ? \"title\" \"line\" + translate line)\n",
    "\n",
    "with open('fr.json', encoding=\"utf-8\") as f:\n",
    "    lines = f.readlines()\n"
   ]
  },
  {
   "cell_type": "code",
   "execution_count": 99,
   "metadata": {},
   "outputs": [
    {
     "name": "stdout",
     "output_type": "stream",
     "text": [
      "1092904 characters remaining to translate\n"
     ]
    }
   ],
   "source": [
    "import re\n",
    "\n",
    "def getTextBetweenQuotes(text):\n",
    "    return re.findall('\"([^\"]*)\"', text)\n",
    "\n",
    "def getQuoteToTranslateForLine(textArray):\n",
    "    quotesArray = []\n",
    "    for i in range(len(textArray)):\n",
    "        betweenQuotes = getTextBetweenQuotes(textArray[i])\n",
    "        if (len(betweenQuotes)>1):\n",
    "            quotesArray.append(betweenQuotes[1])\n",
    "        else:\n",
    "            quotesArray.append(\"\")\n",
    "    return quotesArray\n",
    "\n",
    "quotesArray = getQuoteToTranslateForLine(lines)\n",
    "nbCharacters = sum(len(i) for i in quotesArray)\n",
    "\n",
    "print(str(nbCharacters)+\" characters remaining to translate\")\n",
    "# print(quotesArray)"
   ]
  },
  {
   "cell_type": "code",
   "execution_count": 100,
   "metadata": {
    "colab": {
     "base_uri": "https://localhost:8080/"
    },
    "id": "wlNkPbZgXtP2",
    "outputId": "4610ad74-48ea-4801-cb01-f0ae4748d008"
   },
   "outputs": [],
   "source": [
    "# Check account usage\n",
    "def getUsage():  \n",
    "    usage = translator.get_usage()\n",
    "    if usage.character.limit_exceeded:\n",
    "        print(\"Character limit exceeded.\")\n",
    "    else:\n",
    "        print(f\"Character usage: {usage.character}\")"
   ]
  },
  {
   "cell_type": "code",
   "execution_count": 101,
   "metadata": {
    "colab": {
     "base_uri": "https://localhost:8080/"
    },
    "id": "m-KOmRUbX4ms",
    "outputId": "d4db0eae-c7d8-41cb-a388-3e4a54e30c6a"
   },
   "outputs": [],
   "source": [
    "# Create glossary \n",
    "\n",
    "# Glossaries allow you to customize your translations\n",
    "glossary_en_to_fr = translator.create_glossary(\n",
    "    \"My glossary\",\n",
    "    source_lang=\"EN\",\n",
    "    target_lang=\"FR\",\n",
    "    entries={\n",
    "        \"$4#$b#\": \"$4#$b#\",\n",
    "        \"$h\": \"$h\",\n",
    "        # \"\\t\": \"\\t\",\n",
    "        # \"\\n\": \"\\n\",\n",
    "        \"^\": \"^\",\n",
    "        \"$s\": \"$s\",\n",
    "        \"$u\": \"$u\",\n",
    "        \"$l\": \"$l\",\n",
    "        \"$a\": \"$a\",\n",
    "        \"$b\": \"$b\",\n",
    "        \"#\": \"#\",\n",
    "        \"$q\": \"$q\",\n",
    "        \"$r\": \"$r\",\n",
    "        \"$p\": \"$p\",\n",
    "        \"$b\": \"$b\",\n",
    "        \"$e\": \"$e\",\n",
    "        \"$k\": \"$k\",\n",
    "        \"$c\": \"$c\",\n",
    "        \"$d\": \"$d\",\n",
    "        \"$y\": \"$y\",\n",
    "        \"$1\": \"$1\",\n",
    "        \"$2\": \"$2\",\n",
    "        \"$3\": \"$3\",\n",
    "        \"$4\": \"$4\",\n",
    "        \"$5\": \"$5\",\n",
    "        \"$6\": \"$6\",\n",
    "        \"$7\": \"$7\",\n",
    "        \"$8\": \"$8\",\n",
    "        \"$9\": \"$9\",\n",
    "        \"%fork\" : \"%fork\", \n",
    "        \"[\":\"[\",\n",
    "        \"]\":\"]\",\n",
    "        \"@\": \"@\",\n",
    "        \"%adj\": \"%adj\",\n",
    "        \"%noun\": \"%noun\",\n",
    "        \"%place\": \"%place\",\n",
    "        \"%spouse\": \"%spouse\",\n",
    "        \"%name\": \"%name\",\n",
    "        \"%firstnameletter\": \"%firstnameletter\",\n",
    "        \"%time\": \"%time\",\n",
    "        \"%band\": \"%band\",\n",
    "        \"%book\": \"%book\",\n",
    "        \"%rival\": \"%rival\",\n",
    "        \"%pet\": \"%pet\",\n",
    "        \"%farm\": \"%farm\",\n",
    "        \"%favorite\": \"%favorite\",\n",
    "        \"%kid1\": \"%kid1\",\n",
    "        \"%kid2\": \"%kid2\"\n",
    "    },\n",
    ")"
   ]
  },
  {
   "cell_type": "code",
   "execution_count": 102,
   "metadata": {
    "id": "mEi4sdRZdZoi"
   },
   "outputs": [
    {
     "name": "stdout",
     "output_type": "stream",
     "text": [
      "[{'index': 9873, 'translation': <deepl.translator.TextResult object at 0x000002782E8008E0>}, {'index': 9874, 'translation': <deepl.translator.TextResult object at 0x000002782D5CFDC0>}]\n",
      "Character usage: 4769 of 500000\n"
     ]
    }
   ],
   "source": [
    "#Translate\n",
    "\n",
    "def translateArray(textArray, startIndex, endIndex):\n",
    "    resultArray = []\n",
    "    for i in range(startIndex, endIndex):\n",
    "        if (len(textArray[i])>0):\n",
    "            result = translator.translate_text_with_glossary(text=textArray[i], glossary=glossary_en_to_fr, formality=\"less\")\n",
    "            resultArray.append({\"index\": i, \"translation\": result})\n",
    "    return resultArray\n",
    "\n",
    "resultArray = translateArray(quotesArray, 9873, 9875)\n",
    "    \n",
    "\n",
    "\n",
    "print(resultArray)\n",
    "getUsage()"
   ]
  },
  {
   "cell_type": "code",
   "execution_count": 103,
   "metadata": {
    "colab": {
     "base_uri": "https://localhost:8080/"
    },
    "id": "2gXlMzZTZtso",
    "outputId": "1d25f79a-1770-4a48-d3db-e395d55f9e51"
   },
   "outputs": [
    {
     "name": "stdout",
     "output_type": "stream",
     "text": [
      "{'index': 9873, 'translation': <deepl.translator.TextResult object at 0x000002782E8008E0>}\n"
     ]
    }
   ],
   "source": [
    "print(resultArray[0])"
   ]
  },
  {
   "cell_type": "code",
   "execution_count": 119,
   "metadata": {},
   "outputs": [],
   "source": [
    "def correctEncoding(arrayOfLines):\n",
    "    for x in arrayOfLines:\n",
    "        x[\"translation\"] = str(x[\"translation\"]).replace(\"Ã¨\",\"è\")\n",
    "        x[\"translation\"] = str(x[\"translation\"]).replace(\"Ã©\",\"é\")\n",
    "        x[\"translation\"] = str(x[\"translation\"]).replace(\"Ãª\",\"ê\")\n",
    "        x[\"translation\"] = str(x[\"translation\"]).replace(\"Ã«\",\"ë\")\n",
    "        \n",
    "        x[\"translation\"] = str(x[\"translation\"]).replace(\"Ã¹\",\"ù\")\n",
    "        x[\"translation\"] = str(x[\"translation\"]).replace(\"Ã»\",\"û\")\n",
    "        x[\"translation\"] = str(x[\"translation\"]).replace(\"Ã§\",\"ç\")\n",
    "        x[\"translation\"] = str(x[\"translation\"]).replace(\"Ã¦\",\"æ\")\n",
    "        x[\"translation\"] = str(x[\"translation\"]).replace(\"Ã¤\",\"ä\")\n",
    "        x[\"translation\"] = str(x[\"translation\"]).replace(\"Ã¢\",\"â\")\n",
    "        x[\"translation\"] = str(x[\"translation\"]).replace(\"ÃŠ\",\"Ê\")\n",
    "        x[\"translation\"] = str(x[\"translation\"]).replace(\"Ã‰\",\"É\")\n",
    "        x[\"translation\"] = str(x[\"translation\"]).replace(\"Ãˆ\",\"È\")\n",
    "        x[\"translation\"] = str(x[\"translation\"]).replace(\"Ã‡\",\"Ç\")\n",
    "        x[\"translation\"] = str(x[\"translation\"]).replace(\"Ã€\",\"À\")\n",
    "        \n",
    "        x[\"translation\"] = str(x[\"translation\"]).replace(\"Ã\",\"à\")\n",
    "    return arrayOfLines\n",
    "\n",
    "resultArray = correctEncoding(resultArray)\n",
    "# print(resultArray)"
   ]
  },
  {
   "cell_type": "code",
   "execution_count": 111,
   "metadata": {},
   "outputs": [
    {
     "name": "stdout",
     "output_type": "stream",
     "text": [
      "\t\t\"Anton.Dialogue.Mon6\": \"Hé, @ ! Quoi de neuf ? #$b#Un autre jour, un autre désastre, haha.$h#$b#Je plaisante, je vais bien.\",\n",
      "\n"
     ]
    }
   ],
   "source": [
    "def replaceInsideText(lines, resultArray):\n",
    "    for x in resultArray:\n",
    "        textToReplace = getTextBetweenQuotes(lines[x[\"index\"]])\n",
    "        lines[x[\"index\"]] = lines[x[\"index\"]].replace(textToReplace[1], str(x[\"translation\"]))\n",
    "    return lines\n",
    "\n",
    "\n",
    "textArray = replaceInsideText(lines, resultArray)\n",
    "print(textArray[9873])"
   ]
  },
  {
   "cell_type": "code",
   "execution_count": 112,
   "metadata": {},
   "outputs": [],
   "source": [
    "with open(\"newFr.json\", 'w', encoding='utf-8') as f:\n",
    "    f.writelines(textArray)"
   ]
  },
  {
   "cell_type": "code",
   "execution_count": 133,
   "metadata": {},
   "outputs": [
    {
     "name": "stdout",
     "output_type": "stream",
     "text": [
      "Character usage: 320575 of 500000\n"
     ]
    }
   ],
   "source": [
    "# 12411\n",
    "\n",
    "resultArray = translateArray(quotesArray, 12300, 12411)\n",
    "getUsage()\n",
    "resultArray = correctEncoding(resultArray)\n",
    "textArray = replaceInsideText(lines, resultArray)\n",
    "with open(\"newFr.json\", 'w', encoding='utf-8') as f:\n",
    "    f.writelines(textArray)"
   ]
  },
  {
   "cell_type": "code",
   "execution_count": null,
   "metadata": {},
   "outputs": [],
   "source": [
    "textArray\n",
    "\n",
    "with open(\"newFr.json\", 'w', encoding='utf-8') as f:\n",
    "    f.writelines(textArray)"
   ]
  },
  {
   "cell_type": "markdown",
   "metadata": {},
   "source": [
    "# Examples from API doc"
   ]
  },
  {
   "cell_type": "code",
   "execution_count": null,
   "metadata": {
    "id": "10mj_-z6WX94"
   },
   "outputs": [],
   "source": [
    "# Translate text into a target language, in this case, French\n",
    "result = translator.translate_text(\"Hello, world!\", target_lang=\"FR\")\n",
    "print(result)  # \"Bonjour, le monde !\"\n",
    "# Note: printing or converting the result to a string uses the output text\n",
    "\n",
    "# Translate multiple texts into British English\n",
    "result = translator.translate_text([\"お元気ですか？\", \"¿Cómo estás?\"], target_lang=\"EN-GB\")\n",
    "print(result[0].text)  # \"How are you?\"\n",
    "print(result[0].detected_source_lang)  # \"JA\"\n",
    "print(result[1].text)  # \"How are you?\"\n",
    "print(result[1].detected_source_lang)  # \"ES\"\n",
    "\n",
    "# Translate a formal document from English to German \n",
    "translator.translate_document_from_filepath(\n",
    "    \"Instruction Manual.docx\",\n",
    "    \"Bedienungsanleitung.docx\",\n",
    "    target_lang=\"DE\",\n",
    "    formality=\"less\"\n",
    ")\n",
    "\n",
    "\n",
    "\n",
    "\n",
    "without_glossary = translator.translate_text(\n",
    "    \"The artist was awarded a prize.\", target_lang=\"DE\"\n",
    ")\n",
    "print(without_glossary)  # \"Der Künstler wurde mit einem Preis ausgezeichnet.\"\n",
    "\n",
    "\n",
    "\n",
    "\n",
    "# Source and target languages\n",
    "print(\"Source languages:\")\n",
    "for language in translator.get_source_languages():\n",
    "    print(f\"{language.code} ({language.name})\")  # Example: \"DE (German)\"\n",
    "\n",
    "print(\"Target languages:\")\n",
    "for language in translator.get_target_languages():\n",
    "    if language.supports_formality:\n",
    "        print(f\"{language.code} ({language.name}) supports formality\")\n",
    "    else:\n",
    "        print(f\"{language.code} ({language.name})\")"
   ]
  },
  {
   "cell_type": "code",
   "execution_count": null,
   "metadata": {
    "id": "jjao7E9CW8Rm"
   },
   "outputs": [],
   "source": [
    "\n",
    "\n",
    "with_glossary = translator.translate_text_with_glossary(\n",
    "    \"The artist was awarded a prize.\", glossary_en_to_de\n",
    ")\n",
    "\n",
    "print(with_glossary)  # \"Der Maler wurde mit einem Gewinn ausgezeichnet.\""
   ]
  }
 ],
 "metadata": {
  "colab": {
   "collapsed_sections": [],
   "name": "StardewTranslation.ipynb",
   "provenance": []
  },
  "kernelspec": {
   "display_name": "Python 3 (ipykernel)",
   "language": "python",
   "name": "python3"
  },
  "language_info": {
   "codemirror_mode": {
    "name": "ipython",
    "version": 3
   },
   "file_extension": ".py",
   "mimetype": "text/x-python",
   "name": "python",
   "nbconvert_exporter": "python",
   "pygments_lexer": "ipython3",
   "version": "3.9.7"
  }
 },
 "nbformat": 4,
 "nbformat_minor": 4
}
